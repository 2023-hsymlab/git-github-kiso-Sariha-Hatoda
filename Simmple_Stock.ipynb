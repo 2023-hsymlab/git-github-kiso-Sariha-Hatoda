{
 "cells": [
  {
   "cell_type": "markdown",
   "metadata": {
    "colab_type": "text",
    "id": "view-in-github"
   },
   "source": [
    "<a href=\"https://colab.research.google.com/github/hsym-uec/myWeb_github/blob/main/Simmple_Stock.ipynb\" target=\"_parent\"><img src=\"https://colab.research.google.com/assets/colab-badge.svg\" alt=\"Open In Colab\"/></a>"
   ]
  },
  {
   "cell_type": "code",
   "execution_count": 11,
   "metadata": {
    "id": "iu7dBOESS_HT"
   },
   "outputs": [],
   "source": [
    "# SoftBank Stock data from Stooq.com\n",
    "# reference https://seanmemo.com/234/\n",
    "\n",
    "from pandas_datareader import data\n",
    "start = '2023-04-01'\n",
    "end = '2023-04-18'\n",
    "#6501：日立製作所\n",
    "df = data.DataReader('6501.JP', 'stooq', start, end)\n"
   ]
  },
  {
   "cell_type": "code",
   "execution_count": 12,
   "metadata": {
    "colab": {
     "base_uri": "https://localhost:8080/",
     "height": 269
    },
    "id": "X1ZMmhe8VDaN",
    "outputId": "a1e65cdb-d5aa-4fbc-fc4d-d1b9db6aaafa"
   },
   "outputs": [
    {
     "data": {
      "text/html": [
       "<div>\n",
       "<style scoped>\n",
       "    .dataframe tbody tr th:only-of-type {\n",
       "        vertical-align: middle;\n",
       "    }\n",
       "\n",
       "    .dataframe tbody tr th {\n",
       "        vertical-align: top;\n",
       "    }\n",
       "\n",
       "    .dataframe thead th {\n",
       "        text-align: right;\n",
       "    }\n",
       "</style>\n",
       "<table border=\"1\" class=\"dataframe\">\n",
       "  <thead>\n",
       "    <tr style=\"text-align: right;\">\n",
       "      <th></th>\n",
       "      <th>Open</th>\n",
       "      <th>High</th>\n",
       "      <th>Low</th>\n",
       "      <th>Close</th>\n",
       "      <th>Volume</th>\n",
       "    </tr>\n",
       "    <tr>\n",
       "      <th>Date</th>\n",
       "      <th></th>\n",
       "      <th></th>\n",
       "      <th></th>\n",
       "      <th></th>\n",
       "      <th></th>\n",
       "    </tr>\n",
       "  </thead>\n",
       "  <tbody>\n",
       "    <tr>\n",
       "      <th>2023-04-18</th>\n",
       "      <td>7550</td>\n",
       "      <td>7629</td>\n",
       "      <td>7528</td>\n",
       "      <td>7594</td>\n",
       "      <td>2890100</td>\n",
       "    </tr>\n",
       "    <tr>\n",
       "      <th>2023-04-17</th>\n",
       "      <td>7530</td>\n",
       "      <td>7563</td>\n",
       "      <td>7457</td>\n",
       "      <td>7500</td>\n",
       "      <td>2904600</td>\n",
       "    </tr>\n",
       "    <tr>\n",
       "      <th>2023-04-14</th>\n",
       "      <td>7377</td>\n",
       "      <td>7414</td>\n",
       "      <td>7324</td>\n",
       "      <td>7407</td>\n",
       "      <td>2777800</td>\n",
       "    </tr>\n",
       "    <tr>\n",
       "      <th>2023-04-13</th>\n",
       "      <td>7360</td>\n",
       "      <td>7365</td>\n",
       "      <td>7294</td>\n",
       "      <td>7305</td>\n",
       "      <td>2300300</td>\n",
       "    </tr>\n",
       "    <tr>\n",
       "      <th>2023-04-12</th>\n",
       "      <td>7320</td>\n",
       "      <td>7375</td>\n",
       "      <td>7300</td>\n",
       "      <td>7357</td>\n",
       "      <td>2595600</td>\n",
       "    </tr>\n",
       "    <tr>\n",
       "      <th>2023-04-11</th>\n",
       "      <td>7322</td>\n",
       "      <td>7345</td>\n",
       "      <td>7274</td>\n",
       "      <td>7300</td>\n",
       "      <td>2361900</td>\n",
       "    </tr>\n",
       "    <tr>\n",
       "      <th>2023-04-10</th>\n",
       "      <td>7264</td>\n",
       "      <td>7314</td>\n",
       "      <td>7239</td>\n",
       "      <td>7300</td>\n",
       "      <td>1913200</td>\n",
       "    </tr>\n",
       "    <tr>\n",
       "      <th>2023-04-07</th>\n",
       "      <td>7210</td>\n",
       "      <td>7249</td>\n",
       "      <td>7171</td>\n",
       "      <td>7198</td>\n",
       "      <td>2423400</td>\n",
       "    </tr>\n",
       "    <tr>\n",
       "      <th>2023-04-06</th>\n",
       "      <td>7033</td>\n",
       "      <td>7209</td>\n",
       "      <td>6992</td>\n",
       "      <td>7171</td>\n",
       "      <td>3978600</td>\n",
       "    </tr>\n",
       "    <tr>\n",
       "      <th>2023-04-05</th>\n",
       "      <td>7325</td>\n",
       "      <td>7325</td>\n",
       "      <td>7170</td>\n",
       "      <td>7176</td>\n",
       "      <td>3549000</td>\n",
       "    </tr>\n",
       "    <tr>\n",
       "      <th>2023-04-04</th>\n",
       "      <td>7370</td>\n",
       "      <td>7512</td>\n",
       "      <td>7361</td>\n",
       "      <td>7442</td>\n",
       "      <td>4217800</td>\n",
       "    </tr>\n",
       "    <tr>\n",
       "      <th>2023-04-03</th>\n",
       "      <td>7310</td>\n",
       "      <td>7366</td>\n",
       "      <td>7276</td>\n",
       "      <td>7359</td>\n",
       "      <td>2685900</td>\n",
       "    </tr>\n",
       "  </tbody>\n",
       "</table>\n",
       "</div>"
      ],
      "text/plain": [
       "            Open  High   Low  Close   Volume\n",
       "Date                                        \n",
       "2023-04-18  7550  7629  7528   7594  2890100\n",
       "2023-04-17  7530  7563  7457   7500  2904600\n",
       "2023-04-14  7377  7414  7324   7407  2777800\n",
       "2023-04-13  7360  7365  7294   7305  2300300\n",
       "2023-04-12  7320  7375  7300   7357  2595600\n",
       "2023-04-11  7322  7345  7274   7300  2361900\n",
       "2023-04-10  7264  7314  7239   7300  1913200\n",
       "2023-04-07  7210  7249  7171   7198  2423400\n",
       "2023-04-06  7033  7209  6992   7171  3978600\n",
       "2023-04-05  7325  7325  7170   7176  3549000\n",
       "2023-04-04  7370  7512  7361   7442  4217800\n",
       "2023-04-03  7310  7366  7276   7359  2685900"
      ]
     },
     "execution_count": 12,
     "metadata": {},
     "output_type": "execute_result"
    }
   ],
   "source": [
    "df"
   ]
  },
  {
   "cell_type": "code",
   "execution_count": 15,
   "metadata": {},
   "outputs": [],
   "source": [
    "#https://dev.classmethod.jp/articles/pandas_datareader-mplfinance-tech/\n",
    "#データのグラフ化\n",
    "\n",
    "import mplfinance as mpf\n",
    "\n",
    "df = df.sort_index()\n",
    "mpf.plot(df, title='\\nSoftBank()', type='candle', mav=(5, 25), volume=True, savefig='6501_JP.png')"
   ]
  },
  {
   "cell_type": "code",
   "execution_count": null,
   "metadata": {},
   "outputs": [],
   "source": []
  }
 ],
 "metadata": {
  "colab": {
   "authorship_tag": "ABX9TyPjQvpzdTrQo21gWnU3EF3c",
   "include_colab_link": true,
   "provenance": []
  },
  "kernelspec": {
   "display_name": "Python 3 (ipykernel)",
   "language": "python",
   "name": "python3"
  },
  "language_info": {
   "codemirror_mode": {
    "name": "ipython",
    "version": 3
   },
   "file_extension": ".py",
   "mimetype": "text/x-python",
   "name": "python",
   "nbconvert_exporter": "python",
   "pygments_lexer": "ipython3",
   "version": "3.8.16"
  }
 },
 "nbformat": 4,
 "nbformat_minor": 4
}
